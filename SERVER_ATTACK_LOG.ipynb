{
  "nbformat": 4,
  "nbformat_minor": 0,
  "metadata": {
    "colab": {
      "name": "SERVER_ATTACK_LOG.ipynb",
      "provenance": [],
      "collapsed_sections": [],
      "toc_visible": true
    },
    "kernelspec": {
      "name": "python3",
      "display_name": "Python 3"
    }
  },
  "cells": [
    {
      "cell_type": "markdown",
      "metadata": {
        "id": "1bWBoBl-_b3z",
        "colab_type": "text"
      },
      "source": [
        "Importing necessary libs"
      ]
    },
    {
      "cell_type": "code",
      "metadata": {
        "id": "tYEoncVA_0vu",
        "colab_type": "code",
        "colab": {}
      },
      "source": [
        "import pandas as pd\n",
        "import tensorflow\n",
        "import numpy\n",
        "import sklearn\n",
        "import matplotlib.pyplot as plt\n",
        "import seaborn as sns\n",
        "from sklearn.preprocessing import LabelEncoder, StandardScaler"
      ],
      "execution_count": 30,
      "outputs": []
    },
    {
      "cell_type": "markdown",
      "metadata": {
        "id": "TUv5W0ze_kiY",
        "colab_type": "text"
      },
      "source": [
        "I ran this code on Google Colab with mounted Drive so specify path of dataset if running on local"
      ]
    },
    {
      "cell_type": "markdown",
      "metadata": {
        "id": "eUQKODgz_0Pn",
        "colab_type": "text"
      },
      "source": [
        "This Dataset is of a server log for week1 and classifies sessions as suspicious or not. We are trying to see what factors are responsible for malicious activities. I have done some basic preprocessing steps followed by EDA."
      ]
    },
    {
      "cell_type": "code",
      "metadata": {
        "id": "gnVymflIDG6g",
        "colab_type": "code",
        "colab": {}
      },
      "source": [
        "df = pd.read_csv(\"/content/drive/My Drive/DATASETS/Week1.csv\")"
      ],
      "execution_count": 31,
      "outputs": []
    },
    {
      "cell_type": "code",
      "metadata": {
        "id": "__nENwX0HKML",
        "colab_type": "code",
        "colab": {
          "base_uri": "https://localhost:8080/",
          "height": 326
        },
        "outputId": "0a4b7023-c785-405d-a104-4bae6992e25b"
      },
      "source": [
        "df.head()"
      ],
      "execution_count": 32,
      "outputs": [
        {
          "output_type": "execute_result",
          "data": {
            "text/html": [
              "<div>\n",
              "<style scoped>\n",
              "    .dataframe tbody tr th:only-of-type {\n",
              "        vertical-align: middle;\n",
              "    }\n",
              "\n",
              "    .dataframe tbody tr th {\n",
              "        vertical-align: top;\n",
              "    }\n",
              "\n",
              "    .dataframe thead th {\n",
              "        text-align: right;\n",
              "    }\n",
              "</style>\n",
              "<table border=\"1\" class=\"dataframe\">\n",
              "  <thead>\n",
              "    <tr style=\"text-align: right;\">\n",
              "      <th></th>\n",
              "      <th>Date first seen</th>\n",
              "      <th>Duration</th>\n",
              "      <th>Proto</th>\n",
              "      <th>Src IP Addr</th>\n",
              "      <th>Src Pt</th>\n",
              "      <th>Dst IP Addr</th>\n",
              "      <th>Dst Pt</th>\n",
              "      <th>Packets</th>\n",
              "      <th>Bytes</th>\n",
              "      <th>Flows</th>\n",
              "      <th>Flags</th>\n",
              "      <th>Tos</th>\n",
              "      <th>class</th>\n",
              "      <th>attackType</th>\n",
              "      <th>attackID</th>\n",
              "      <th>attackDescription</th>\n",
              "    </tr>\n",
              "  </thead>\n",
              "  <tbody>\n",
              "    <tr>\n",
              "      <th>0</th>\n",
              "      <td>2017-03-14 17:43:57.172</td>\n",
              "      <td>81412.697</td>\n",
              "      <td>TCP</td>\n",
              "      <td>EXT_SERVER</td>\n",
              "      <td>8082</td>\n",
              "      <td>OPENSTACK_NET</td>\n",
              "      <td>56978.0</td>\n",
              "      <td>3057</td>\n",
              "      <td>2.1 M</td>\n",
              "      <td>1</td>\n",
              "      <td>.AP...</td>\n",
              "      <td>0</td>\n",
              "      <td>normal</td>\n",
              "      <td>---</td>\n",
              "      <td>---</td>\n",
              "      <td>---</td>\n",
              "    </tr>\n",
              "    <tr>\n",
              "      <th>1</th>\n",
              "      <td>2017-03-14 17:43:57.172</td>\n",
              "      <td>81412.697</td>\n",
              "      <td>TCP</td>\n",
              "      <td>OPENSTACK_NET</td>\n",
              "      <td>56978</td>\n",
              "      <td>EXT_SERVER</td>\n",
              "      <td>8082.0</td>\n",
              "      <td>4748</td>\n",
              "      <td>2.5 M</td>\n",
              "      <td>1</td>\n",
              "      <td>.AP...</td>\n",
              "      <td>0</td>\n",
              "      <td>normal</td>\n",
              "      <td>---</td>\n",
              "      <td>---</td>\n",
              "      <td>---</td>\n",
              "    </tr>\n",
              "    <tr>\n",
              "      <th>2</th>\n",
              "      <td>2017-03-14 17:43:26.135</td>\n",
              "      <td>81504.787</td>\n",
              "      <td>TCP</td>\n",
              "      <td>EXT_SERVER</td>\n",
              "      <td>8082</td>\n",
              "      <td>OPENSTACK_NET</td>\n",
              "      <td>56979.0</td>\n",
              "      <td>8639</td>\n",
              "      <td>9.1 M</td>\n",
              "      <td>1</td>\n",
              "      <td>.AP...</td>\n",
              "      <td>0</td>\n",
              "      <td>normal</td>\n",
              "      <td>---</td>\n",
              "      <td>---</td>\n",
              "      <td>---</td>\n",
              "    </tr>\n",
              "    <tr>\n",
              "      <th>3</th>\n",
              "      <td>2017-03-14 17:43:26.135</td>\n",
              "      <td>81504.787</td>\n",
              "      <td>TCP</td>\n",
              "      <td>OPENSTACK_NET</td>\n",
              "      <td>56979</td>\n",
              "      <td>EXT_SERVER</td>\n",
              "      <td>8082.0</td>\n",
              "      <td>12024</td>\n",
              "      <td>10.3 M</td>\n",
              "      <td>1</td>\n",
              "      <td>.AP...</td>\n",
              "      <td>0</td>\n",
              "      <td>normal</td>\n",
              "      <td>---</td>\n",
              "      <td>---</td>\n",
              "      <td>---</td>\n",
              "    </tr>\n",
              "    <tr>\n",
              "      <th>4</th>\n",
              "      <td>2017-03-14 18:17:09.005</td>\n",
              "      <td>82100.692</td>\n",
              "      <td>TCP</td>\n",
              "      <td>EXT_SERVER</td>\n",
              "      <td>8082</td>\n",
              "      <td>OPENSTACK_NET</td>\n",
              "      <td>51649.0</td>\n",
              "      <td>11012</td>\n",
              "      <td>27.2 M</td>\n",
              "      <td>1</td>\n",
              "      <td>.AP.S.</td>\n",
              "      <td>0</td>\n",
              "      <td>normal</td>\n",
              "      <td>---</td>\n",
              "      <td>---</td>\n",
              "      <td>---</td>\n",
              "    </tr>\n",
              "  </tbody>\n",
              "</table>\n",
              "</div>"
            ],
            "text/plain": [
              "           Date first seen   Duration  ... attackID attackDescription\n",
              "0  2017-03-14 17:43:57.172  81412.697  ...      ---               ---\n",
              "1  2017-03-14 17:43:57.172  81412.697  ...      ---               ---\n",
              "2  2017-03-14 17:43:26.135  81504.787  ...      ---               ---\n",
              "3  2017-03-14 17:43:26.135  81504.787  ...      ---               ---\n",
              "4  2017-03-14 18:17:09.005  82100.692  ...      ---               ---\n",
              "\n",
              "[5 rows x 16 columns]"
            ]
          },
          "metadata": {
            "tags": []
          },
          "execution_count": 32
        }
      ]
    },
    {
      "cell_type": "code",
      "metadata": {
        "id": "FIjE7iTQHoZX",
        "colab_type": "code",
        "colab": {
          "base_uri": "https://localhost:8080/",
          "height": 87
        },
        "outputId": "e24980bc-7ccf-4b4d-9a95-02f32cc9061d"
      },
      "source": [
        "df.columns"
      ],
      "execution_count": 33,
      "outputs": [
        {
          "output_type": "execute_result",
          "data": {
            "text/plain": [
              "Index(['Date first seen', 'Duration', 'Proto', 'Src IP Addr', 'Src Pt',\n",
              "       'Dst IP Addr', 'Dst Pt', 'Packets', 'Bytes', 'Flows', 'Flags', 'Tos',\n",
              "       'class', 'attackType', 'attackID', 'attackDescription'],\n",
              "      dtype='object')"
            ]
          },
          "metadata": {
            "tags": []
          },
          "execution_count": 33
        }
      ]
    },
    {
      "cell_type": "markdown",
      "metadata": {
        "id": "8ZO3E5JGAXzh",
        "colab_type": "text"
      },
      "source": [
        "Checking for NULL values below. Some classification models on sklearn do not work well with missing values therefore it is necessary to remove or impute them with another well fitted statistical measure"
      ]
    },
    {
      "cell_type": "code",
      "metadata": {
        "id": "EIo-vV7sHwWq",
        "colab_type": "code",
        "colab": {
          "base_uri": "https://localhost:8080/",
          "height": 312
        },
        "outputId": "a26b7e21-113b-4f05-9189-901636fd7306"
      },
      "source": [
        "df.isnull().sum()"
      ],
      "execution_count": 34,
      "outputs": [
        {
          "output_type": "execute_result",
          "data": {
            "text/plain": [
              "Date first seen      0\n",
              "Duration             0\n",
              "Proto                0\n",
              "Src IP Addr          0\n",
              "Src Pt               0\n",
              "Dst IP Addr          0\n",
              "Dst Pt               0\n",
              "Packets              0\n",
              "Bytes                0\n",
              "Flows                0\n",
              "Flags                0\n",
              "Tos                  0\n",
              "class                0\n",
              "attackType           0\n",
              "attackID             0\n",
              "attackDescription    0\n",
              "dtype: int64"
            ]
          },
          "metadata": {
            "tags": []
          },
          "execution_count": 34
        }
      ]
    },
    {
      "cell_type": "code",
      "metadata": {
        "id": "nshdgCxTHzBD",
        "colab_type": "code",
        "colab": {
          "base_uri": "https://localhost:8080/",
          "height": 312
        },
        "outputId": "a5d5e59e-42e2-4d0e-d91e-27e6fb9edf9f"
      },
      "source": [
        "df.dtypes"
      ],
      "execution_count": 35,
      "outputs": [
        {
          "output_type": "execute_result",
          "data": {
            "text/plain": [
              "Date first seen       object\n",
              "Duration             float64\n",
              "Proto                 object\n",
              "Src IP Addr           object\n",
              "Src Pt                 int64\n",
              "Dst IP Addr           object\n",
              "Dst Pt               float64\n",
              "Packets                int64\n",
              "Bytes                 object\n",
              "Flows                  int64\n",
              "Flags                 object\n",
              "Tos                    int64\n",
              "class                 object\n",
              "attackType            object\n",
              "attackID              object\n",
              "attackDescription     object\n",
              "dtype: object"
            ]
          },
          "metadata": {
            "tags": []
          },
          "execution_count": 35
        }
      ]
    },
    {
      "cell_type": "markdown",
      "metadata": {
        "id": "yGQElITKAuJP",
        "colab_type": "text"
      },
      "source": [
        "We have the class variable which we need to predict later on. It has following unique values."
      ]
    },
    {
      "cell_type": "code",
      "metadata": {
        "id": "kuSHBt2BH2Ba",
        "colab_type": "code",
        "colab": {
          "base_uri": "https://localhost:8080/",
          "height": 35
        },
        "outputId": "ebcdb332-ec08-424b-b5f6-b49f6fd9f942"
      },
      "source": [
        "df[\"class\"].unique()"
      ],
      "execution_count": 36,
      "outputs": [
        {
          "output_type": "execute_result",
          "data": {
            "text/plain": [
              "array(['normal', 'suspicious', 'unknown'], dtype=object)"
            ]
          },
          "metadata": {
            "tags": []
          },
          "execution_count": 36
        }
      ]
    },
    {
      "cell_type": "code",
      "metadata": {
        "id": "67dlfclVH6EM",
        "colab_type": "code",
        "colab": {
          "base_uri": "https://localhost:8080/",
          "height": 35
        },
        "outputId": "56e3b9c7-8052-4a08-9143-d7f2e70c93e9"
      },
      "source": [
        "data = df.copy()\n",
        "data.shape\n"
      ],
      "execution_count": 37,
      "outputs": [
        {
          "output_type": "execute_result",
          "data": {
            "text/plain": [
              "(172838, 16)"
            ]
          },
          "metadata": {
            "tags": []
          },
          "execution_count": 37
        }
      ]
    },
    {
      "cell_type": "markdown",
      "metadata": {
        "id": "YBaTNLsPA47X",
        "colab_type": "text"
      },
      "source": [
        "We are using seaborn plots to visualize our data"
      ]
    },
    {
      "cell_type": "markdown",
      "metadata": {
        "id": "JpNUKft9BKoS",
        "colab_type": "text"
      },
      "source": [
        "We can see that majority of the data is suspicious sessions so our model will learn better on classifiying suspicious class."
      ]
    },
    {
      "cell_type": "code",
      "metadata": {
        "id": "T0DnbWx7IYrz",
        "colab_type": "code",
        "colab": {
          "base_uri": "https://localhost:8080/",
          "height": 303
        },
        "outputId": "de7ec9ee-0d7d-44c7-eae7-d5496f2a5186"
      },
      "source": [
        "sns.set(style = \"darkgrid\")\n",
        "sns.countplot(x = \"class\",data=data)"
      ],
      "execution_count": 38,
      "outputs": [
        {
          "output_type": "execute_result",
          "data": {
            "text/plain": [
              "<matplotlib.axes._subplots.AxesSubplot at 0x7fde7ef01160>"
            ]
          },
          "metadata": {
            "tags": []
          },
          "execution_count": 38
        },
        {
          "output_type": "display_data",
          "data": {
            "image/png": "[encoded data removed]",
            "text/plain": [
              "<Figure size 432x288 with 1 Axes>"
            ]
          },
          "metadata": {
            "tags": []
          }
        }
      ]
    },
    {
      "cell_type": "markdown",
      "metadata": {
        "id": "NSFZgXwSBcWA",
        "colab_type": "text"
      },
      "source": [
        "The Flags field is a string of some flag variables which are necessary in the networking field. Wherever a certain flag is not set a \".\" is used. We need to break this columns into individual variables for flags as it will help the model learn faster and establish better relations. "
      ]
    },
    {
      "cell_type": "code",
      "metadata": {
        "id": "TMRAnN5lIifc",
        "colab_type": "code",
        "colab": {
          "base_uri": "https://localhost:8080/",
          "height": 104
        },
        "outputId": "0be9d8b1-987a-4978-8cb9-465e888777ad"
      },
      "source": [
        "df[\"Flags\"].unique()"
      ],
      "execution_count": 39,
      "outputs": [
        {
          "output_type": "execute_result",
          "data": {
            "text/plain": [
              "array(['.AP...', '.AP.S.', '....S.', '.A.R..', '.APRS.', '.APRSF',\n",
              "       '.AP.SF', '......', '  0xdb', '...RS.', '.A..S.', '.A..SF',\n",
              "       '.A.RS.', '.A.RSF', '...R..', '.A....', '  0xd2', '.A.R.F',\n",
              "       '  0xc2', '  0xda', '  0xd7', '  0x53', '  0xdf', '  0xd6',\n",
              "       '  0xd3'], dtype=object)"
            ]
          },
          "metadata": {
            "tags": []
          },
          "execution_count": 39
        }
      ]
    },
    {
      "cell_type": "code",
      "metadata": {
        "id": "SW3q73xHJR-a",
        "colab_type": "code",
        "colab": {}
      },
      "source": [
        "df[\"A\"]=0\n",
        "df[\"P\"]=0\n",
        "df[\"S\"]=0\n",
        "df[\"R\"]=0\n",
        "df[\"F\"]=0\n",
        "df[\"x\"]=0"
      ],
      "execution_count": 40,
      "outputs": []
    },
    {
      "cell_type": "code",
      "metadata": {
        "id": "yd1nVyb_JVc4",
        "colab_type": "code",
        "colab": {}
      },
      "source": [
        "def set_flag(data,check):\n",
        "    val=0;\n",
        "    if(check in list(data[\"Flags\"])):\n",
        "        val = 1 ;\n",
        "    return val;"
      ],
      "execution_count": 41,
      "outputs": []
    },
    {
      "cell_type": "code",
      "metadata": {
        "id": "1RqUebMuJYB3",
        "colab_type": "code",
        "colab": {
          "base_uri": "https://localhost:8080/",
          "height": 104
        },
        "outputId": "799c4ecf-f021-41d1-a865-050caec0ffdc"
      },
      "source": [
        "df.columns"
      ],
      "execution_count": 42,
      "outputs": [
        {
          "output_type": "execute_result",
          "data": {
            "text/plain": [
              "Index(['Date first seen', 'Duration', 'Proto', 'Src IP Addr', 'Src Pt',\n",
              "       'Dst IP Addr', 'Dst Pt', 'Packets', 'Bytes', 'Flows', 'Flags', 'Tos',\n",
              "       'class', 'attackType', 'attackID', 'attackDescription', 'A', 'P', 'S',\n",
              "       'R', 'F', 'x'],\n",
              "      dtype='object')"
            ]
          },
          "metadata": {
            "tags": []
          },
          "execution_count": 42
        }
      ]
    },
    {
      "cell_type": "code",
      "metadata": {
        "id": "iTEuJv8MJZ16",
        "colab_type": "code",
        "colab": {}
      },
      "source": [
        "df[\"A\"] = df.apply(set_flag,check =\"A\", axis = 1)\n",
        "df[\"P\"] = df.apply(set_flag,check = \"P\" ,axis = 1)\n",
        "df[\"S\"] = df.apply(set_flag,check =\"S\",axis = 1)\n",
        "df[\"R\"] = df.apply(set_flag,check=\"R\" ,axis = 1)\n",
        "df[\"F\"] = df.apply(set_flag,check =\"F\" ,axis = 1)\n",
        "df[\"x\"] = df.apply(set_flag,check =\"x\" ,axis = 1)"
      ],
      "execution_count": 43,
      "outputs": []
    },
    {
      "cell_type": "markdown",
      "metadata": {
        "id": "F64xlKicB_co",
        "colab_type": "text"
      },
      "source": [
        "Checking here the individual flag variables and impact of each variable on class. You can change the variable name in the below plot and see the impact."
      ]
    },
    {
      "cell_type": "code",
      "metadata": {
        "id": "0edOQIrpJnN_",
        "colab_type": "code",
        "colab": {
          "base_uri": "https://localhost:8080/",
          "height": 303
        },
        "outputId": "2a56af77-f2dc-427c-922c-32fa102f15ce"
      },
      "source": [
        "sns.countplot(x=\"S\",hue = \"class\",data=df)"
      ],
      "execution_count": 44,
      "outputs": [
        {
          "output_type": "execute_result",
          "data": {
            "text/plain": [
              "<matplotlib.axes._subplots.AxesSubplot at 0x7fde7eecac18>"
            ]
          },
          "metadata": {
            "tags": []
          },
          "execution_count": 44
        },
        {
          "output_type": "display_data",
          "data": {
            "image/png": "[encoded data removed]",
            "text/plain": [
              "<Figure size 432x288 with 1 Axes>"
            ]
          },
          "metadata": {
            "tags": []
          }
        }
      ]
    },
    {
      "cell_type": "code",
      "metadata": {
        "id": "02rsOpPKKG7z",
        "colab_type": "code",
        "colab": {
          "base_uri": "https://localhost:8080/",
          "height": 303
        },
        "outputId": "8a6b23b7-eaeb-44e4-e8a6-215583205b64"
      },
      "source": [
        "sns.countplot(x = \"Proto\",hue = \"class\",data = df)"
      ],
      "execution_count": 45,
      "outputs": [
        {
          "output_type": "execute_result",
          "data": {
            "text/plain": [
              "<matplotlib.axes._subplots.AxesSubplot at 0x7fde7eec9748>"
            ]
          },
          "metadata": {
            "tags": []
          },
          "execution_count": 45
        },
        {
          "output_type": "display_data",
          "data": {
            "image/png": "[encoded data removed]",
            "text/plain": [
              "<Figure size 432x288 with 1 Axes>"
            ]
          },
          "metadata": {
            "tags": []
          }
        }
      ]
    },
    {
      "cell_type": "markdown",
      "metadata": {
        "id": "c7uq92T2CW-h",
        "colab_type": "text"
      },
      "source": [
        "Dropping some unnecessary columns and columns having a single value like flows and tos"
      ]
    },
    {
      "cell_type": "code",
      "metadata": {
        "id": "KtRpjWSYKIqP",
        "colab_type": "code",
        "colab": {}
      },
      "source": [
        "df=df.drop(columns = [\"Date first seen\",\"attackType\",\"attackID\",\"attackDescription\",\"Flows\",\"Tos\",\"Flags\"])"
      ],
      "execution_count": 46,
      "outputs": []
    },
    {
      "cell_type": "code",
      "metadata": {
        "id": "YEttqYvSKNX_",
        "colab_type": "code",
        "colab": {
          "base_uri": "https://localhost:8080/",
          "height": 254
        },
        "outputId": "3e7ec970-f7cb-47a9-84c1-a80a51d8d86b"
      },
      "source": [
        "df.head()"
      ],
      "execution_count": 47,
      "outputs": [
        {
          "output_type": "execute_result",
          "data": {
            "text/html": [
              "<div>\n",
              "<style scoped>\n",
              "    .dataframe tbody tr th:only-of-type {\n",
              "        vertical-align: middle;\n",
              "    }\n",
              "\n",
              "    .dataframe tbody tr th {\n",
              "        vertical-align: top;\n",
              "    }\n",
              "\n",
              "    .dataframe thead th {\n",
              "        text-align: right;\n",
              "    }\n",
              "</style>\n",
              "<table border=\"1\" class=\"dataframe\">\n",
              "  <thead>\n",
              "    <tr style=\"text-align: right;\">\n",
              "      <th></th>\n",
              "      <th>Duration</th>\n",
              "      <th>Proto</th>\n",
              "      <th>Src IP Addr</th>\n",
              "      <th>Src Pt</th>\n",
              "      <th>Dst IP Addr</th>\n",
              "      <th>Dst Pt</th>\n",
              "      <th>Packets</th>\n",
              "      <th>Bytes</th>\n",
              "      <th>class</th>\n",
              "      <th>A</th>\n",
              "      <th>P</th>\n",
              "      <th>S</th>\n",
              "      <th>R</th>\n",
              "      <th>F</th>\n",
              "      <th>x</th>\n",
              "    </tr>\n",
              "  </thead>\n",
              "  <tbody>\n",
              "    <tr>\n",
              "      <th>0</th>\n",
              "      <td>81412.697</td>\n",
              "      <td>TCP</td>\n",
              "      <td>EXT_SERVER</td>\n",
              "      <td>8082</td>\n",
              "      <td>OPENSTACK_NET</td>\n",
              "      <td>56978.0</td>\n",
              "      <td>3057</td>\n",
              "      <td>2.1 M</td>\n",
              "      <td>normal</td>\n",
              "      <td>1</td>\n",
              "      <td>1</td>\n",
              "      <td>0</td>\n",
              "      <td>0</td>\n",
              "      <td>0</td>\n",
              "      <td>0</td>\n",
              "    </tr>\n",
              "    <tr>\n",
              "      <th>1</th>\n",
              "      <td>81412.697</td>\n",
              "      <td>TCP</td>\n",
              "      <td>OPENSTACK_NET</td>\n",
              "      <td>56978</td>\n",
              "      <td>EXT_SERVER</td>\n",
              "      <td>8082.0</td>\n",
              "      <td>4748</td>\n",
              "      <td>2.5 M</td>\n",
              "      <td>normal</td>\n",
              "      <td>1</td>\n",
              "      <td>1</td>\n",
              "      <td>0</td>\n",
              "      <td>0</td>\n",
              "      <td>0</td>\n",
              "      <td>0</td>\n",
              "    </tr>\n",
              "    <tr>\n",
              "      <th>2</th>\n",
              "      <td>81504.787</td>\n",
              "      <td>TCP</td>\n",
              "      <td>EXT_SERVER</td>\n",
              "      <td>8082</td>\n",
              "      <td>OPENSTACK_NET</td>\n",
              "      <td>56979.0</td>\n",
              "      <td>8639</td>\n",
              "      <td>9.1 M</td>\n",
              "      <td>normal</td>\n",
              "      <td>1</td>\n",
              "      <td>1</td>\n",
              "      <td>0</td>\n",
              "      <td>0</td>\n",
              "      <td>0</td>\n",
              "      <td>0</td>\n",
              "    </tr>\n",
              "    <tr>\n",
              "      <th>3</th>\n",
              "      <td>81504.787</td>\n",
              "      <td>TCP</td>\n",
              "      <td>OPENSTACK_NET</td>\n",
              "      <td>56979</td>\n",
              "      <td>EXT_SERVER</td>\n",
              "      <td>8082.0</td>\n",
              "      <td>12024</td>\n",
              "      <td>10.3 M</td>\n",
              "      <td>normal</td>\n",
              "      <td>1</td>\n",
              "      <td>1</td>\n",
              "      <td>0</td>\n",
              "      <td>0</td>\n",
              "      <td>0</td>\n",
              "      <td>0</td>\n",
              "    </tr>\n",
              "    <tr>\n",
              "      <th>4</th>\n",
              "      <td>82100.692</td>\n",
              "      <td>TCP</td>\n",
              "      <td>EXT_SERVER</td>\n",
              "      <td>8082</td>\n",
              "      <td>OPENSTACK_NET</td>\n",
              "      <td>51649.0</td>\n",
              "      <td>11012</td>\n",
              "      <td>27.2 M</td>\n",
              "      <td>normal</td>\n",
              "      <td>1</td>\n",
              "      <td>1</td>\n",
              "      <td>1</td>\n",
              "      <td>0</td>\n",
              "      <td>0</td>\n",
              "      <td>0</td>\n",
              "    </tr>\n",
              "  </tbody>\n",
              "</table>\n",
              "</div>"
            ],
            "text/plain": [
              "    Duration  Proto    Src IP Addr  Src Pt    Dst IP Addr  ...  P  S  R  F  x\n",
              "0  81412.697  TCP       EXT_SERVER    8082  OPENSTACK_NET  ...  1  0  0  0  0\n",
              "1  81412.697  TCP    OPENSTACK_NET   56978     EXT_SERVER  ...  1  0  0  0  0\n",
              "2  81504.787  TCP       EXT_SERVER    8082  OPENSTACK_NET  ...  1  0  0  0  0\n",
              "3  81504.787  TCP    OPENSTACK_NET   56979     EXT_SERVER  ...  1  0  0  0  0\n",
              "4  82100.692  TCP       EXT_SERVER    8082  OPENSTACK_NET  ...  1  1  0  0  0\n",
              "\n",
              "[5 rows x 15 columns]"
            ]
          },
          "metadata": {
            "tags": []
          },
          "execution_count": 47
        }
      ]
    },
    {
      "cell_type": "markdown",
      "metadata": {
        "id": "9bHOQ0lfCh7e",
        "colab_type": "text"
      },
      "source": [
        "The Bytes variable was an object as seen in head command and the model would not recognize it as a number. Therefore we convert the M in the number to a multiplication of 1M with the number part. This has been simply done using regex"
      ]
    },
    {
      "cell_type": "code",
      "metadata": {
        "id": "A-HrbEZKKPE2",
        "colab_type": "code",
        "colab": {}
      },
      "source": [
        "import re\n",
        "def convtonum(data):\n",
        "    num1=data[\"Bytes\"]\n",
        "    if \"M\" in data[\"Bytes\"]:\n",
        "        num=re.findall(\"[0-9.0-9]\",data[\"Bytes\"])\n",
        "        num1 = float(\"\".join(num))*100000\n",
        "    num1 = float(num1)\n",
        "    return num1"
      ],
      "execution_count": 48,
      "outputs": []
    },
    {
      "cell_type": "code",
      "metadata": {
        "id": "ybYgbSPeK2bo",
        "colab_type": "code",
        "colab": {}
      },
      "source": [
        "df[\"Bytes\"] = df.apply(convtonum,axis = 1)"
      ],
      "execution_count": 49,
      "outputs": []
    },
    {
      "cell_type": "code",
      "metadata": {
        "id": "OZvR7eLnK4hq",
        "colab_type": "code",
        "colab": {
          "base_uri": "https://localhost:8080/",
          "height": 239
        },
        "outputId": "c8d8ca8c-4250-4dc4-c1d0-01f497f23ab7"
      },
      "source": [
        "df.head()"
      ],
      "execution_count": 50,
      "outputs": [
        {
          "output_type": "execute_result",
          "data": {
            "text/html": [
              "<div>\n",
              "<style scoped>\n",
              "    .dataframe tbody tr th:only-of-type {\n",
              "        vertical-align: middle;\n",
              "    }\n",
              "\n",
              "    .dataframe tbody tr th {\n",
              "        vertical-align: top;\n",
              "    }\n",
              "\n",
              "    .dataframe thead th {\n",
              "        text-align: right;\n",
              "    }\n",
              "</style>\n",
              "<table border=\"1\" class=\"dataframe\">\n",
              "  <thead>\n",
              "    <tr style=\"text-align: right;\">\n",
              "      <th></th>\n",
              "      <th>Duration</th>\n",
              "      <th>Proto</th>\n",
              "      <th>Src IP Addr</th>\n",
              "      <th>Src Pt</th>\n",
              "      <th>Dst IP Addr</th>\n",
              "      <th>Dst Pt</th>\n",
              "      <th>Packets</th>\n",
              "      <th>Bytes</th>\n",
              "      <th>class</th>\n",
              "      <th>A</th>\n",
              "      <th>P</th>\n",
              "      <th>S</th>\n",
              "      <th>R</th>\n",
              "      <th>F</th>\n",
              "      <th>x</th>\n",
              "    </tr>\n",
              "  </thead>\n",
              "  <tbody>\n",
              "    <tr>\n",
              "      <th>0</th>\n",
              "      <td>81412.697</td>\n",
              "      <td>TCP</td>\n",
              "      <td>EXT_SERVER</td>\n",
              "      <td>8082</td>\n",
              "      <td>OPENSTACK_NET</td>\n",
              "      <td>56978.0</td>\n",
              "      <td>3057</td>\n",
              "      <td>210000.0</td>\n",
              "      <td>normal</td>\n",
              "      <td>1</td>\n",
              "      <td>1</td>\n",
              "      <td>0</td>\n",
              "      <td>0</td>\n",
              "      <td>0</td>\n",
              "      <td>0</td>\n",
              "    </tr>\n",
              "    <tr>\n",
              "      <th>1</th>\n",
              "      <td>81412.697</td>\n",
              "      <td>TCP</td>\n",
              "      <td>OPENSTACK_NET</td>\n",
              "      <td>56978</td>\n",
              "      <td>EXT_SERVER</td>\n",
              "      <td>8082.0</td>\n",
              "      <td>4748</td>\n",
              "      <td>250000.0</td>\n",
              "      <td>normal</td>\n",
              "      <td>1</td>\n",
              "      <td>1</td>\n",
              "      <td>0</td>\n",
              "      <td>0</td>\n",
              "      <td>0</td>\n",
              "      <td>0</td>\n",
              "    </tr>\n",
              "    <tr>\n",
              "      <th>2</th>\n",
              "      <td>81504.787</td>\n",
              "      <td>TCP</td>\n",
              "      <td>EXT_SERVER</td>\n",
              "      <td>8082</td>\n",
              "      <td>OPENSTACK_NET</td>\n",
              "      <td>56979.0</td>\n",
              "      <td>8639</td>\n",
              "      <td>910000.0</td>\n",
              "      <td>normal</td>\n",
              "      <td>1</td>\n",
              "      <td>1</td>\n",
              "      <td>0</td>\n",
              "      <td>0</td>\n",
              "      <td>0</td>\n",
              "      <td>0</td>\n",
              "    </tr>\n",
              "    <tr>\n",
              "      <th>3</th>\n",
              "      <td>81504.787</td>\n",
              "      <td>TCP</td>\n",
              "      <td>OPENSTACK_NET</td>\n",
              "      <td>56979</td>\n",
              "      <td>EXT_SERVER</td>\n",
              "      <td>8082.0</td>\n",
              "      <td>12024</td>\n",
              "      <td>1030000.0</td>\n",
              "      <td>normal</td>\n",
              "      <td>1</td>\n",
              "      <td>1</td>\n",
              "      <td>0</td>\n",
              "      <td>0</td>\n",
              "      <td>0</td>\n",
              "      <td>0</td>\n",
              "    </tr>\n",
              "    <tr>\n",
              "      <th>4</th>\n",
              "      <td>82100.692</td>\n",
              "      <td>TCP</td>\n",
              "      <td>EXT_SERVER</td>\n",
              "      <td>8082</td>\n",
              "      <td>OPENSTACK_NET</td>\n",
              "      <td>51649.0</td>\n",
              "      <td>11012</td>\n",
              "      <td>2720000.0</td>\n",
              "      <td>normal</td>\n",
              "      <td>1</td>\n",
              "      <td>1</td>\n",
              "      <td>1</td>\n",
              "      <td>0</td>\n",
              "      <td>0</td>\n",
              "      <td>0</td>\n",
              "    </tr>\n",
              "  </tbody>\n",
              "</table>\n",
              "</div>"
            ],
            "text/plain": [
              "    Duration  Proto    Src IP Addr  Src Pt    Dst IP Addr  ...  P  S  R  F  x\n",
              "0  81412.697  TCP       EXT_SERVER    8082  OPENSTACK_NET  ...  1  0  0  0  0\n",
              "1  81412.697  TCP    OPENSTACK_NET   56978     EXT_SERVER  ...  1  0  0  0  0\n",
              "2  81504.787  TCP       EXT_SERVER    8082  OPENSTACK_NET  ...  1  0  0  0  0\n",
              "3  81504.787  TCP    OPENSTACK_NET   56979     EXT_SERVER  ...  1  0  0  0  0\n",
              "4  82100.692  TCP       EXT_SERVER    8082  OPENSTACK_NET  ...  1  1  0  0  0\n",
              "\n",
              "[5 rows x 15 columns]"
            ]
          },
          "metadata": {
            "tags": []
          },
          "execution_count": 50
        }
      ]
    },
    {
      "cell_type": "markdown",
      "metadata": {
        "id": "BJRjT5xCC1Sv",
        "colab_type": "text"
      },
      "source": [
        "Label Encoding categorical values."
      ]
    },
    {
      "cell_type": "code",
      "metadata": {
        "id": "DlabnMXVK75q",
        "colab_type": "code",
        "colab": {}
      },
      "source": [
        "from sklearn.preprocessing import LabelEncoder\n",
        "col = [\"Proto\",\"class\",\"Src IP Addr\",\"Dst IP Addr\"]\n",
        "enc = LabelEncoder()\n",
        "for col_name in col:\n",
        "    df[col_name]=enc.fit_transform(df[col_name])\n"
      ],
      "execution_count": 51,
      "outputs": []
    },
    {
      "cell_type": "markdown",
      "metadata": {
        "id": "QVCOsfemDBfI",
        "colab_type": "text"
      },
      "source": [
        "Correlation Heatmap shows how each variable is correlated with class variable which we will try to predict."
      ]
    },
    {
      "cell_type": "code",
      "metadata": {
        "id": "QgO9oJHbK_RT",
        "colab_type": "code",
        "colab": {
          "base_uri": "https://localhost:8080/",
          "height": 303
        },
        "outputId": "cbae4600-9493-46d2-ca7c-e7c52f1f1e0a"
      },
      "source": [
        "data1 = df.copy()\n",
        "plt.figure(figsize=(18,5))\n",
        "sns.heatmap(data1.corr(),annot=True,cmap = \"RdYlGn\")"
      ],
      "execution_count": 52,
      "outputs": [
        {
          "output_type": "execute_result",
          "data": {
            "text/plain": [
              "<matplotlib.axes._subplots.AxesSubplot at 0x7fde7e300f60>"
            ]
          },
          "metadata": {
            "tags": []
          },
          "execution_count": 52
        },
        {
          "output_type": "display_data",
          "data": {
            "image/png": "[encoded data removed]",
            "text/plain": [
              "<Figure size 1296x360 with 2 Axes>"
            ]
          },
          "metadata": {
            "tags": []
          }
        }
      ]
    },
    {
      "cell_type": "code",
      "metadata": {
        "id": "hjuIMn6JLBof",
        "colab_type": "code",
        "colab": {}
      },
      "source": [
        "data_y = data1[\"class\"]\n",
        "data_x = data1.drop(columns = [\"class\"])"
      ],
      "execution_count": 53,
      "outputs": []
    },
    {
      "cell_type": "markdown",
      "metadata": {
        "id": "eECO8UZBDYMn",
        "colab_type": "text"
      },
      "source": [
        "Breaking dataset into train and test sets randomly"
      ]
    },
    {
      "cell_type": "code",
      "metadata": {
        "id": "RU98hlRcLGJl",
        "colab_type": "code",
        "colab": {}
      },
      "source": [
        "from sklearn.model_selection import train_test_split\n",
        "\n",
        "X_train, X_test, y_train, y_test = train_test_split(data_x, data_y, test_size=0.3, random_state=1)"
      ],
      "execution_count": 54,
      "outputs": []
    },
    {
      "cell_type": "code",
      "metadata": {
        "id": "PwNTNcQGLINv",
        "colab_type": "code",
        "colab": {}
      },
      "source": [
        "#decision-tree-classifier - single-tree-classifier  // using all features\n",
        "\n",
        "from sklearn.tree import DecisionTreeClassifier\n",
        "\n",
        "clf = DecisionTreeClassifier(criterion=\"entropy\", max_depth=10) # you can use GINI index also here as a critirion \n",
        "clf = clf.fit(X_train,y_train)\n",
        "y_pred = clf.predict(X_test)"
      ],
      "execution_count": 55,
      "outputs": []
    },
    {
      "cell_type": "markdown",
      "metadata": {
        "id": "WqPWIcGIDtMS",
        "colab_type": "text"
      },
      "source": [
        "We got a 99% accuracy on the first go we can check further if it is overfitting and also see important variable in the model "
      ]
    },
    {
      "cell_type": "code",
      "metadata": {
        "id": "l6FDaQnKLc4d",
        "colab_type": "code",
        "colab": {
          "base_uri": "https://localhost:8080/",
          "height": 35
        },
        "outputId": "13b85bcc-b1be-4e69-be0a-91d569d699f0"
      },
      "source": [
        "from sklearn import metrics\n",
        "print(\"Accuracy:\",metrics.accuracy_score(y_test, y_pred))"
      ],
      "execution_count": 56,
      "outputs": [
        {
          "output_type": "stream",
          "text": [
            "Accuracy: 0.999537144179588\n"
          ],
          "name": "stdout"
        }
      ]
    },
    {
      "cell_type": "code",
      "metadata": {
        "id": "Jxndbn8nLoct",
        "colab_type": "code",
        "colab": {
          "base_uri": "https://localhost:8080/",
          "height": 268
        },
        "outputId": "33bda12c-58bf-4321-f8a9-5172654308fa"
      },
      "source": [
        "feat_importances = pd.Series(clf.feature_importances_, index=X_train.columns)\n",
        "feat_importances.nlargest(15).plot(kind='barh')\n",
        "plt.show()"
      ],
      "execution_count": 57,
      "outputs": [
        {
          "output_type": "display_data",
          "data": {
            "image/png": "[encoded data removed]",
            "text/plain": [
              "<Figure size 432x288 with 1 Axes>"
            ]
          },
          "metadata": {
            "tags": []
          }
        }
      ]
    },
    {
      "cell_type": "code",
      "metadata": {
        "id": "4AJfj5cpX_YU",
        "colab_type": "code",
        "colab": {
          "base_uri": "https://localhost:8080/",
          "height": 139
        },
        "outputId": "b1f85a67-5d2d-4ff5-b969-24eda5ba9660"
      },
      "source": [
        "# if you want to select most important features from an algorithm use recursive feature elimination and run algorithm on that\n",
        "\n",
        "from sklearn.feature_selection import RFE\n",
        "\n",
        "m = DecisionTreeClassifier(criterion=\"entropy\", max_depth=10)\n",
        "rfe = RFE(m,8)\n",
        "fit=rfe.fit(X_train,y_train)\n",
        "\n",
        "print(X_train.columns)\n",
        "print(\"Num Features: %d\" % fit.n_features_)\n",
        "print(\"Selected Features: %s\" % fit.support_)\n",
        "print(\"Feature Ranking: %s\" % fit.ranking_)"
      ],
      "execution_count": 58,
      "outputs": [
        {
          "output_type": "stream",
          "text": [
            "Index(['Duration', 'Proto', 'Src IP Addr', 'Src Pt', 'Dst IP Addr', 'Dst Pt',\n",
            "       'Packets', 'Bytes', 'A', 'P', 'S', 'R', 'F', 'x'],\n",
            "      dtype='object')\n",
            "Num Features: 8\n",
            "Selected Features: [ True False  True  True  True  True  True False False  True False False\n",
            "  True False]\n",
            "Feature Ranking: [1 5 1 1 1 1 1 2 6 1 3 4 1 7]\n"
          ],
          "name": "stdout"
        }
      ]
    },
    {
      "cell_type": "code",
      "metadata": {
        "id": "7IAWPxe3asYI",
        "colab_type": "code",
        "colab": {}
      },
      "source": [
        "\n",
        "\n",
        "\n"
      ],
      "execution_count": 58,
      "outputs": []
    },
    {
      "cell_type": "code",
      "metadata": {
        "id": "R5YVsoPktkX6",
        "colab_type": "code",
        "colab": {}
      },
      "source": [
        ""
      ],
      "execution_count": 58,
      "outputs": []
    }
  ]
}